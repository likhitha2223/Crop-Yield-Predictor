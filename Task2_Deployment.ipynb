{
  "nbformat": 4,
  "nbformat_minor": 0,
  "metadata": {
    "colab": {
      "provenance": []
    },
    "kernelspec": {
      "name": "python3",
      "display_name": "Python 3"
    },
    "language_info": {
      "name": "python"
    }
  },
  "cells": [
    {
      "cell_type": "code",
      "source": [
        "from google.colab import drive\n",
        "drive.mount('/content/drive')"
      ],
      "metadata": {
        "colab": {
          "base_uri": "https://localhost:8080/"
        },
        "id": "JkbB-sEdTXfv",
        "outputId": "14bcf165-924f-4931-96ac-507c34f84849"
      },
      "execution_count": 1,
      "outputs": [
        {
          "output_type": "stream",
          "name": "stdout",
          "text": [
            "Mounted at /content/drive\n"
          ]
        }
      ]
    },
    {
      "cell_type": "code",
      "source": [
        "import joblib\n",
        "import numpy as np\n",
        "import pandas as pd"
      ],
      "metadata": {
        "id": "qEFw9XURTIIv"
      },
      "execution_count": 2,
      "outputs": []
    },
    {
      "cell_type": "code",
      "source": [
        "# Load the Label Encoder\n",
        "label_encoder = joblib.load('/content/drive/MyDrive/Farmoid/label_encoder.pkl')\n",
        "\n",
        "# Load the Standard Scaler\n",
        "scaler = joblib.load('/content/drive/MyDrive/Farmoid/scaler.pkl')\n",
        "\n",
        "# Load the best model (Voting Regressor)\n",
        "bagging_regressor = joblib.load('/content/drive/MyDrive/Farmoid/voting_regressor.pkl')"
      ],
      "metadata": {
        "id": "_cEsVLgnq59L"
      },
      "execution_count": 3,
      "outputs": []
    },
    {
      "cell_type": "code",
      "source": [
        "# Define new data\n",
        "new_data = pd.DataFrame({\n",
        "    'District_Name': ['NICOBARS'],\n",
        "    'Season': ['Kharif'],\n",
        "    'Crop': ['Other Kharif pulses'],\n",
        "    'Area': [2.0],\n",
        "    'Production': [1.0]\n",
        "})\n",
        "\n",
        "# Preprocess the new data\n",
        "new_data['Season'] = new_data['Season'].str.strip()\n",
        "\n",
        "# Apply log transformation\n",
        "new_data['Area'] = np.log1p(new_data['Area'])\n",
        "new_data['Production'] = np.log1p(new_data['Production'])\n",
        "\n",
        "# Encode categorical variables\n",
        "for col in ['District_Name', 'Season', 'Crop']:\n",
        "  new_data[col] = label_encoder[col].transform(new_data[col])\n",
        "\n",
        "# Prepare input data\n",
        "# input_data = np.array([[data['State_Name'], data['District_Name'], data['Crop_Year'], data['Season'], data['Crop'], data['Area']]])\n",
        "new_data = scaler.transform(new_data)\n",
        "\n",
        "# Predict the crop yield\n",
        "predicted_yield_log = bagging_regressor.predict(new_data)\n",
        "\n",
        "# Transform back from log scale to original scale\n",
        "predicted_yield = np.expm1(predicted_yield_log)\n",
        "print(f'Predicted Crop Yield: {predicted_yield[0]}')"
      ],
      "metadata": {
        "id": "Nnlr05-yq8Qg",
        "colab": {
          "base_uri": "https://localhost:8080/"
        },
        "outputId": "82fb735b-a036-41f9-fa4c-b38e06f0ce61"
      },
      "execution_count": 4,
      "outputs": [
        {
          "output_type": "stream",
          "name": "stdout",
          "text": [
            "Predicted Crop Yield: 0.5000000000000018\n"
          ]
        }
      ]
    },
    {
      "cell_type": "code",
      "source": [],
      "metadata": {
        "id": "9MbcGY_wYEpk"
      },
      "execution_count": 4,
      "outputs": []
    },
    {
      "cell_type": "code",
      "source": [],
      "metadata": {
        "id": "G-WTc55mYEsV"
      },
      "execution_count": 4,
      "outputs": []
    },
    {
      "cell_type": "code",
      "source": [],
      "metadata": {
        "id": "jsNAWE0aYEu9"
      },
      "execution_count": 4,
      "outputs": []
    },
    {
      "cell_type": "code",
      "source": [],
      "metadata": {
        "id": "gsDVqDG0YExf"
      },
      "execution_count": 4,
      "outputs": []
    },
    {
      "cell_type": "code",
      "source": [],
      "metadata": {
        "id": "3lLVvWiPYE0R"
      },
      "execution_count": 4,
      "outputs": []
    },
    {
      "cell_type": "code",
      "source": [],
      "metadata": {
        "id": "aJkcXi8CYE3E"
      },
      "execution_count": 4,
      "outputs": []
    },
    {
      "cell_type": "code",
      "source": [],
      "metadata": {
        "id": "e0bMJ4A0YE5k"
      },
      "execution_count": 4,
      "outputs": []
    },
    {
      "cell_type": "code",
      "source": [],
      "metadata": {
        "id": "Il7iLbUYYE8N"
      },
      "execution_count": 4,
      "outputs": []
    },
    {
      "cell_type": "code",
      "source": [],
      "metadata": {
        "id": "XNUwmsF4YE-_"
      },
      "execution_count": 4,
      "outputs": []
    },
    {
      "cell_type": "code",
      "source": [],
      "metadata": {
        "id": "ZH1oHiJOYFBl"
      },
      "execution_count": 4,
      "outputs": []
    },
    {
      "cell_type": "code",
      "source": [],
      "metadata": {
        "id": "6lY5i5V-YFEK"
      },
      "execution_count": 4,
      "outputs": []
    },
    {
      "cell_type": "code",
      "source": [],
      "metadata": {
        "id": "kVhWeuDzYFHF"
      },
      "execution_count": 4,
      "outputs": []
    },
    {
      "cell_type": "code",
      "source": [],
      "metadata": {
        "id": "QbObL8UGYFJx"
      },
      "execution_count": 4,
      "outputs": []
    },
    {
      "cell_type": "code",
      "source": [],
      "metadata": {
        "id": "tE9q9NYgYFMM"
      },
      "execution_count": 4,
      "outputs": []
    },
    {
      "cell_type": "code",
      "source": [],
      "metadata": {
        "id": "-jC-EVesYFO2"
      },
      "execution_count": 4,
      "outputs": []
    },
    {
      "cell_type": "code",
      "source": [],
      "metadata": {
        "id": "sMVaEhJTYFRY"
      },
      "execution_count": 4,
      "outputs": []
    },
    {
      "cell_type": "code",
      "source": [],
      "metadata": {
        "id": "bt5dTEcHYFUE"
      },
      "execution_count": 4,
      "outputs": []
    },
    {
      "cell_type": "code",
      "source": [],
      "metadata": {
        "id": "U0bz7rBVYFWm"
      },
      "execution_count": 4,
      "outputs": []
    },
    {
      "cell_type": "code",
      "source": [],
      "metadata": {
        "id": "O_1B3_BdYFZP"
      },
      "execution_count": 4,
      "outputs": []
    },
    {
      "cell_type": "code",
      "source": [],
      "metadata": {
        "id": "zUluUO5eYFb-"
      },
      "execution_count": 4,
      "outputs": []
    },
    {
      "cell_type": "code",
      "source": [],
      "metadata": {
        "id": "TmnsKrFTYFe2"
      },
      "execution_count": 4,
      "outputs": []
    },
    {
      "cell_type": "code",
      "source": [],
      "metadata": {
        "id": "OiJHZfRXYFiW"
      },
      "execution_count": 4,
      "outputs": []
    }
  ]
}